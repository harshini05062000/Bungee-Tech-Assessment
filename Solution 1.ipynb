{
 "cells": [
  {
   "cell_type": "code",
   "execution_count": 1,
   "metadata": {},
   "outputs": [
    {
     "name": "stdout",
     "output_type": "stream",
     "text": [
      "     Population Violent Property Murder Forcible_Rape Robbery Aggravated_assault Burglary Larceny_Theft Vehicle_Theft\n",
      "1960 201385000 4134930 45160900 106180 236720 1633510 2158520 13321100 26547700 5292100\n",
      "1970 220099000 9607930 91383800 192230 554570 4159020 4702120 28486000 53157800 9739900\n",
      "1980 248239000 14074328 117048900 206439 865639 5383109 7619130 33073494 72040253 11935411\n",
      "1990 272690813 17527048 119053499 211664 998827 5748930 10568963 26750015 77679366 14624418\n",
      "2000 307006550 13968056 100944369 163068 922499 4230366 8652124 21565176 67970291 11412834\n",
      "2010 318857056 6072017 44095950 72867 421059 1749809 3764142 10125170 30401698 3569080\n"
     ]
    }
   ],
   "source": [
    "import pandas as pd\n",
    "df=pd.read_csv(\"main1.csv\")\n",
    "df[\"col1\"]=(df[\"Year\"]//10)*10\n",
    "df.groupby(\"col1\")\n",
    "s = set(df['col1'])\n",
    "l = list(s)\n",
    "l.sort()\n",
    "print(\"    \",\"Population\",\"Violent\",\"Property\",\"Murder\",\"Forcible_Rape\",\"Robbery\",\"Aggravated_assault\",\"Burglary\",\"Larceny_Theft\",\"Vehicle_Theft\")\n",
    "for i in l:\n",
    "    data_new = df[df['col1'] == i]\n",
    "    print(i,data_new['Population'].max(),data_new['Violent'].sum(),data_new['Property'].sum(),data_new['Murder'].sum(),data_new['Forcible_Rape'].sum(),data_new['Robbery'].sum(),data_new['Aggravated_assault'].sum(),data_new['Burglary'].sum(),data_new['Larceny_Theft'].sum(),data_new['Vehicle_Theft'].sum())"
   ]
  },
  {
   "cell_type": "code",
   "execution_count": null,
   "metadata": {},
   "outputs": [],
   "source": []
  }
 ],
 "metadata": {
  "kernelspec": {
   "display_name": "Python 3",
   "language": "python",
   "name": "python3"
  },
  "language_info": {
   "codemirror_mode": {
    "name": "ipython",
    "version": 3
   },
   "file_extension": ".py",
   "mimetype": "text/x-python",
   "name": "python",
   "nbconvert_exporter": "python",
   "pygments_lexer": "ipython3",
   "version": "3.8.5"
  }
 },
 "nbformat": 4,
 "nbformat_minor": 4
}
