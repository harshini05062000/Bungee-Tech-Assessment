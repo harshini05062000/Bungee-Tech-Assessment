{
 "cells": [
  {
   "cell_type": "code",
   "execution_count": 26,
   "metadata": {},
   "outputs": [
    {
     "name": "stdout",
     "output_type": "stream",
     "text": [
      "           min max\n",
      "Occupation          \n",
      "administrator 21 70\n",
      "artist 19 48\n",
      "doctor 28 64\n",
      "educator 23 63\n",
      "engineer 22 70\n",
      "entertainment 15 50\n",
      "executive 22 69\n",
      "healthcare 22 62\n",
      "homemaker 20 50\n",
      "lawyer 21 53\n",
      "librarian 23 69\n",
      "marketing 24 55\n",
      "none 11 55\n",
      "other 13 64\n",
      "programmer 20 63\n",
      "retired 51 73\n",
      "salesman 18 66\n",
      "scientist 23 55\n",
      "student 7 42\n",
      "technician 21 55\n",
      "writer 18 60\n"
     ]
    }
   ],
   "source": [
    "import pandas as pd\n",
    "import numpy as np\n",
    "data=pd.read_csv(\"main.csv\")\n",
    "s =set(data['occupation'])\n",
    "l = list(s)\n",
    "l.sort()\n",
    "print(\"          \",\"min\",\"max\")\n",
    "print(\"Occupation\",\"    \",\"    \")\n",
    "for i in l:\n",
    "    data_new = data[data['occupation'] == i]\n",
    "    print(i,data_new['age'].min(),data_new['age'].max())\n"
   ]
  },
  {
   "cell_type": "markdown",
   "metadata": {},
   "source": []
  }
 ],
 "metadata": {
  "kernelspec": {
   "display_name": "Python 3",
   "language": "python",
   "name": "python3"
  },
  "language_info": {
   "codemirror_mode": {
    "name": "ipython",
    "version": 3
   },
   "file_extension": ".py",
   "mimetype": "text/x-python",
   "name": "python",
   "nbconvert_exporter": "python",
   "pygments_lexer": "ipython3",
   "version": "3.8.5"
  }
 },
 "nbformat": 4,
 "nbformat_minor": 4
}
